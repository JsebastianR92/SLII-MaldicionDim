{
  "nbformat": 4,
  "nbformat_minor": 0,
  "metadata": {
    "colab": {
      "name": "MaldicionDim.ipynb",
      "provenance": []
    },
    "kernelspec": {
      "name": "python3",
      "display_name": "Python 3"
    }
  },
  "cells": [
    {
      "cell_type": "markdown",
      "metadata": {
        "id": "S3Hh0SrpxhzO",
        "colab_type": "text"
      },
      "source": [
        ""
      ]
    },
    {
      "cell_type": "markdown",
      "metadata": {
        "id": "RYgX6yS1xkNf",
        "colab_type": "text"
      },
      "source": [
        "# Sebastián Rodríguez\n",
        "# 20003076\n",
        "\n",
        "                                     Maldición de Dimensionalidad"
      ]
    },
    {
      "cell_type": "code",
      "metadata": {
        "id": "VwuPzy2GwySz",
        "colab_type": "code",
        "colab": {}
      },
      "source": [
        "import numpy as np \n",
        "import pandas as pd \n",
        "import random,math \n",
        "import matplotlib.pyplot as plt"
      ],
      "execution_count": 1,
      "outputs": []
    },
    {
      "cell_type": "code",
      "metadata": {
        "id": "KN6y_QOFw3EO",
        "colab_type": "code",
        "colab": {}
      },
      "source": [
        "def puntos(dims): \n",
        "     return [random.random() for _ in range(dims)] \n",
        "\n",
        "def distance(a,b): \n",
        "     diff = [a_i-b_i for a_i,b_i in zip(a,b)] \n",
        "     sum_of_sqrs = sum(a_i**2 for a_i in diff) \n",
        "     return math.sqrt(sum_of_sqrs) \n",
        "\n",
        "def ComparacionDist(dims,number_pairs): \n",
        "     return [distance(puntos(dims),puntos(dims)) \n",
        "            for _ in range(number_pairs)] \n",
        "    \n",
        "def mean(x): \n",
        "     return sum(x) / len(x)"
      ],
      "execution_count": 4,
      "outputs": []
    },
    {
      "cell_type": "code",
      "metadata": {
        "id": "-wzG2BuPw6-j",
        "colab_type": "code",
        "colab": {}
      },
      "source": [
        "distProm = [] \n",
        "\n",
        "Comodin = np.empty((20,2)) \n",
        "dist = pd.DataFrame(Comodin) \n",
        "dist.columns = [\"Dimension\",\"DistanciaPromedio\"] "
      ],
      "execution_count": 5,
      "outputs": []
    },
    {
      "cell_type": "code",
      "metadata": {
        "id": "BUGGJ2puxDAf",
        "colab_type": "code",
        "colab": {
          "base_uri": "https://localhost:8080/",
          "height": 992
        },
        "outputId": "a333c80c-142f-498f-8b24-85bc43677536"
      },
      "source": [
        "random.seed(40) \n",
        "i = 0 \n",
        "for dims in dimss: \n",
        "    dist_Total = ComparacionDist(dims, 1000)   \n",
        "    distProm.append(mean(dist_Total))     \n",
        "     \n",
        "    dist.loc[i,\"Dimension\"] = dims \n",
        "    dist.loc[i,\"DistanciaPromedio\"] = mean(dist_Total) \n",
        "           \n",
        "    print(dims,mean(dist_Total))\n",
        "    i = i+1\n",
        "\n",
        "plt.plot(dist[\"Dimension\"],dist[\"DistanciaPromedio\"])\n",
        "plt.title(\"Distancia Promedio - k observaciones\")\n",
        "plt.xlabel('Dimensiones') \n",
        "plt.ylabel('Distancia Promedio') \n",
        "plt.legend(loc='best') \n",
        "plt.show();"
      ],
      "execution_count": 9,
      "outputs": [
        {
          "output_type": "stream",
          "text": [
            "1 0.3304377974569266\n",
            "6 0.9718366726979907\n",
            "11 1.3428297800724869\n",
            "16 1.5916756747360146\n",
            "21 1.8606501665486392\n",
            "26 2.05939278034058\n",
            "31 2.2575232751731726\n",
            "36 2.4368760200852035\n",
            "41 2.620080307069328\n",
            "46 2.7625945084356123\n",
            "51 2.89338869628594\n",
            "56 3.04103478287079\n",
            "61 3.1837540168385114\n",
            "66 3.2946307081057804\n",
            "71 3.4335738927751285\n",
            "76 3.5609023888328744\n",
            "81 3.6705963579722676\n",
            "86 3.7747621910195295\n",
            "91 3.885202293008529\n",
            "96 3.9871994289025343\n",
            "101 4.091623861134935\n",
            "106 4.194797436760151\n",
            "111 4.299946953926221\n",
            "116 4.392107797538249\n",
            "121 4.500000117577843\n",
            "126 4.569193064205523\n",
            "131 4.670386854961063\n",
            "136 4.743869381556361\n",
            "141 4.8403658613650995\n",
            "146 4.916156206138143\n",
            "151 5.011904217530445\n",
            "156 5.097331764593295\n",
            "161 5.15738876580636\n",
            "166 5.251041104914\n",
            "171 5.325070508861497\n",
            "176 5.422322753425231\n",
            "181 5.48791272897287\n",
            "186 5.565523375530461\n"
          ],
          "name": "stdout"
        },
        {
          "output_type": "stream",
          "text": [
            "No handles with labels found to put in legend.\n"
          ],
          "name": "stderr"
        },
        {
          "output_type": "stream",
          "text": [
            "191 5.6312761071627975\n",
            "196 5.715461971073279\n"
          ],
          "name": "stdout"
        },
        {
          "output_type": "display_data",
          "data": {
            "image/png": "[encoded data removed]",
            "text/plain": [
              "<Figure size 432x288 with 1 Axes>"
            ]
          },
          "metadata": {
            "tags": [],
            "needs_background": "light"
          }
        }
      ]
    },
    {
      "cell_type": "code",
      "metadata": {
        "id": "ZByBoqwGxFCt",
        "colab_type": "code",
        "colab": {}
      },
      "source": [
        ""
      ],
      "execution_count": null,
      "outputs": []
    }
  ]
}